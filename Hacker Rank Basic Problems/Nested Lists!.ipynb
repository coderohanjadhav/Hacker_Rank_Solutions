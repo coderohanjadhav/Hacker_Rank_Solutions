{
 "cells": [
  {
   "cell_type": "markdown",
   "metadata": {},
   "source": [
    "# Tasks\n",
    "\n",
    "Given the names and grades for each student in a class of **N** students, store them in a nested list and print the name(s) of any student(s) having the second lowest grade.\n",
    "\n",
    "**Note**: If there are multiple students with the second lowest grade, order their names alphabetically and print each name on a new line.\n",
    "\n",
    "### Example\n",
    "\n",
    "**records = [ [\"chi\",20.0],[\"beta\",50],[\"alpha\",50.0] ]**\n",
    "\n",
    "The ordered list of scores is **[20.0,50.0]** , so the second lowest score is **50.0** . There are two students with that score: **[\"beta\",\"alpha\"]** . Ordered alphabetically, the names are printed as:\n"
   ]
  },
  {
   "cell_type": "raw",
   "metadata": {},
   "source": [
    "alpha\n",
    "beta"
   ]
  },
  {
   "cell_type": "markdown",
   "metadata": {},
   "source": [
    "### Input Format"
   ]
  },
  {
   "cell_type": "markdown",
   "metadata": {},
   "source": [
    "The first line contains an integer **N**, , the number of students.\n",
    "The **2N** subsequent lines describe each student over **2** lines.\n",
    "- The first line contains a student's name.\n",
    "- The second line contains their grade."
   ]
  },
  {
   "cell_type": "markdown",
   "metadata": {},
   "source": [
    "### Output Format\n",
    "\n",
    "Print the name(s) of any student(s) having the second lowest grade in. If there are multiple students, order their names alphabetically and print each one on a new line."
   ]
  },
  {
   "cell_type": "code",
   "execution_count": null,
   "metadata": {},
   "outputs": [],
   "source": [
    "score_list = []\n",
    "marksheet = []\n",
    "\n",
    "for _ in range(int(input())):\n",
    "        name = input()\n",
    "        score = float(input())\n"
   ]
  },
  {
   "cell_type": "code",
   "execution_count": null,
   "metadata": {},
   "outputs": [],
   "source": []
  }
 ],
 "metadata": {
  "kernelspec": {
   "display_name": "Python 3",
   "language": "python",
   "name": "python3"
  },
  "language_info": {
   "codemirror_mode": {
    "name": "ipython",
    "version": 3
   },
   "file_extension": ".py",
   "mimetype": "text/x-python",
   "name": "python",
   "nbconvert_exporter": "python",
   "pygments_lexer": "ipython3",
   "version": "3.7.9"
  }
 },
 "nbformat": 4,
 "nbformat_minor": 4
}
