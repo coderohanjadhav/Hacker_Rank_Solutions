{
 "cells": [
  {
   "cell_type": "markdown",
   "metadata": {},
   "source": [
    "# collections.Counter()\n",
    "\n",
    "A counter is a container that stores elements as dictionary keys, and their counts are stored as dictionary values."
   ]
  },
  {
   "cell_type": "code",
   "execution_count": 2,
   "metadata": {},
   "outputs": [
    {
     "name": "stdout",
     "output_type": "stream",
     "text": [
      "[1, 1, 2, 3, 4, 5, 3, 2, 3, 4, 2, 1, 2, 3]\n",
      "Counter({2: 4, 3: 4, 1: 3, 4: 2, 5: 1})\n",
      "dict_items([(1, 3), (2, 4), (3, 4), (4, 2), (5, 1)])\n",
      "dict_keys([1, 2, 3, 4, 5])\n",
      "dict_values([3, 4, 4, 2, 1])\n"
     ]
    }
   ],
   "source": [
    "from collections import Counter\n",
    "\n",
    "myList = [1,1,2,3,4,5,3,2,3,4,2,1,2,3]\n",
    "\n",
    "print(myList)\n",
    "\n",
    "print(Counter(myList))\n",
    "\n",
    "print(Counter(myList).items())\n",
    "     \n",
    "print(Counter(myList).keys())\n",
    "\n",
    "print(Counter(myList).values())"
   ]
  },
  {
   "cell_type": "markdown",
   "metadata": {},
   "source": [
    "# Task\n",
    "\n",
    "**Rohan** is a shoe shop owner. His shop has **x** number of shoes.\n",
    "He has a list containing the size of each shoe he has in his shop.\n",
    "There are **N** number of customers who are willing to pay **Xi** amount of money only if they get the shoe of their desired size.\n",
    "\n",
    "Your task is to compute how much money **Rohan** earned.\n",
    "\n",
    "### Input Format\n",
    "\n",
    "The first line contains **X** , the number of shoes.\n",
    "The second line contains the space separated list of all the shoe sizes in the shop.\n",
    "The third line contains **N**, the number of customers.\n",
    "The next **N** lines contain the space separated values of the **Shoe Size**  desired by the customer and **Xi** , the price of the shoe."
   ]
  },
  {
   "cell_type": "code",
   "execution_count": 3,
   "metadata": {},
   "outputs": [
    {
     "name": "stdout",
     "output_type": "stream",
     "text": [
      "10\n",
      "2 3 4 5 6 8 7 6 5 18\n",
      "6\n",
      "6 55\n",
      "6 45\n",
      "6 55\n",
      "4 40\n",
      "18 60\n",
      "10 50\n",
      "200\n"
     ]
    }
   ],
   "source": [
    "from collections import Counter\n",
    "no_of_shoes = int(input())\n",
    "list_of_shoes = map(int , input().split())\n",
    "no_of_customers = int(input())\n",
    "shoes = Counter(list_of_shoes)\n",
    "\n",
    "income = 0\n",
    "for i in range(no_of_customers):\n",
    "    size,price = map(int,input().split())\n",
    "    if shoes[size]:\n",
    "        income += price\n",
    "        shoes[size] -= 1\n",
    "print(income)"
   ]
  }
 ],
 "metadata": {
  "kernelspec": {
   "display_name": "Python 3",
   "language": "python",
   "name": "python3"
  },
  "language_info": {
   "codemirror_mode": {
    "name": "ipython",
    "version": 3
   },
   "file_extension": ".py",
   "mimetype": "text/x-python",
   "name": "python",
   "nbconvert_exporter": "python",
   "pygments_lexer": "ipython3",
   "version": "3.7.9"
  }
 },
 "nbformat": 4,
 "nbformat_minor": 4
}
