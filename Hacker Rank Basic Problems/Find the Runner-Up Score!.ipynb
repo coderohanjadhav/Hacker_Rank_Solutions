{
 "cells": [
  {
   "cell_type": "markdown",
   "metadata": {},
   "source": [
    "# Find the Runner-Up Score!\n",
    "\n",
    "### Task\n",
    "\n",
    "Given the participants' score sheet for your University Sports Day, you are required to find the runner-up score. You are given **n**  scores. Store them in a list and find the score of the runner-up.\n",
    "\n",
    "### Input Format\n",
    "\n",
    "The first line contains **n**. The second line contains an array **A[  ]** of **n** integers each separated by a space."
   ]
  },
  {
   "cell_type": "code",
   "execution_count": 2,
   "metadata": {},
   "outputs": [
    {
     "name": "stdout",
     "output_type": "stream",
     "text": [
      "5\n",
      "2 3 6 6 5\n",
      "5\n"
     ]
    }
   ],
   "source": [
    "x = int(input())\n",
    "\n",
    "ranks = list(map(int, input().split()))\n",
    "\n",
    "largest = max(ranks)\n",
    "\n",
    "for i in range(x):\n",
    "    if largest == max(ranks):\n",
    "        ranks.remove(max(ranks))\n",
    "        \n",
    "print(max(ranks))"
   ]
  },
  {
   "cell_type": "code",
   "execution_count": null,
   "metadata": {},
   "outputs": [],
   "source": []
  }
 ],
 "metadata": {
  "kernelspec": {
   "display_name": "Python 3",
   "language": "python",
   "name": "python3"
  },
  "language_info": {
   "codemirror_mode": {
    "name": "ipython",
    "version": 3
   },
   "file_extension": ".py",
   "mimetype": "text/x-python",
   "name": "python",
   "nbconvert_exporter": "python",
   "pygments_lexer": "ipython3",
   "version": "3.7.9"
  }
 },
 "nbformat": 4,
 "nbformat_minor": 4
}
